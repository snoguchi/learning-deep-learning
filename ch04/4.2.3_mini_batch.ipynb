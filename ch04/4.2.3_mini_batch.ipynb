{
 "cells": [
  {
   "cell_type": "code",
   "execution_count": 2,
   "metadata": {},
   "outputs": [
    {
     "output_type": "stream",
     "name": "stdout",
     "text": "(60000, 784)\n(60000, 10)\n"
    }
   ],
   "source": [
    "import sys, os\n",
    "sys.path.append(os.pardir)\n",
    "import numpy as np\n",
    "from dataset.mnist import load_mnist\n",
    "\n",
    "# (訓練データ, 訓練ラベル), (テストデータ, テストラベル)\n",
    "(x_train, t_train), (x_test, t_test) = \\\n",
    "    load_mnist(normalize=True, one_hot_label=True)\n",
    "\n",
    "print(x_train.shape)\n",
    "print(t_train.shape)"
   ]
  },
  {
   "cell_type": "code",
   "execution_count": 38,
   "metadata": {},
   "outputs": [
    {
     "output_type": "execute_result",
     "data": {
      "text/plain": "array([0.3, 0.1])"
     },
     "metadata": {},
     "execution_count": 38
    }
   ],
   "source": [
    "# 訓練データ = 60000個\n",
    "train_size = x_train.shape[0]\n",
    "\n",
    "# ミニバッチのサイズ = 10個\n",
    "batch_size = 10\n",
    "\n",
    "# 60000個の中からランダムな10個のインデックスをチョイス\n",
    "batch_mask = np.random.choice(train_size, batch_size)\n",
    "\n",
    "# ランダムに選択されたミニバッチの訓練データとラベル\n",
    "x_batch = x_train[batch_mask]\n",
    "t_batch = t_train[batch_mask]\n",
    "\n",
    "# ミニバッチ対応版の交差エントロピー誤差\n",
    "def cross_entropy_error(y, t):\n",
    "    # ここ意味わからん...\n",
    "    if y.ndim == 1:\n",
    "        t = t.reshape(1, t.size)\n",
    "        y = y.reshape(1, y.size)\n",
    "    batch_size = y.shape[0]\n",
    "    return -np.sum(t * np.log(y + 1e-7)) / batch_size\n",
    "\n",
    "# ミニバッチ対応版の交差エントロピー誤差（その２）\n",
    "# tが（one-hot表現ではなく「2」や「7」のようなラベルの場合）\n",
    "def cross_entropy_error(y, t):\n",
    "    if y.ndim == 1:\n",
    "        t = t.reshape(1, t.size)\n",
    "        y = y.reshape(1, y.size)\n",
    "    batch_size = y.shape[0]\n",
    "    # 以下の意味は次のセクション参照\n",
    "    return -np.sum(t * np.log(y[np.arange(batch_size), t] + 1e-7)) / batch_size"
   ]
  },
  {
   "cell_type": "code",
   "execution_count": 52,
   "metadata": {},
   "outputs": [
    {
     "output_type": "execute_result",
     "data": {
      "text/plain": "array([0.6, 0.8])"
     },
     "metadata": {},
     "execution_count": 52
    }
   ],
   "source": [
    "# ニューラルネットの出力\n",
    "y = np.array([[0, 0.1, 0.6, 0.3], [0.8, 0.1, 0, 0.1]])\n",
    "\n",
    "# 正解ラベル（one-hot表現でない）\n",
    "t = np.array([2, 0])\n",
    "\n",
    "batch_size = y.shape[0]\n",
    "\n",
    "# ニューラルネットの出力のうち正解ラベルに適合したものだけを抽出する\n",
    "y[np.arange(batch_size), t]"
   ]
  }
 ],
 "metadata": {
  "language_info": {
   "codemirror_mode": {
    "name": "ipython",
    "version": 3
   },
   "file_extension": ".py",
   "mimetype": "text/x-python",
   "name": "python",
   "nbconvert_exporter": "python",
   "pygments_lexer": "ipython3",
   "version": "3.7.6-final"
  },
  "orig_nbformat": 2,
  "kernelspec": {
   "name": "python3",
   "display_name": "Python 3"
  }
 },
 "nbformat": 4,
 "nbformat_minor": 2
}